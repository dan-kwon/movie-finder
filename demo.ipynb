{
 "cells": [
  {
   "attachments": {},
   "cell_type": "markdown",
   "metadata": {},
   "source": [
    "# Movie Finder Demo"
   ]
  },
  {
   "cell_type": "code",
   "execution_count": 2,
   "metadata": {},
   "outputs": [],
   "source": [
    "import numpy as np\n",
    "import pandas as pd\n",
    "from movienight import MovieFinder\n",
    "from movienight.datasets import load_tmdb\n",
    "\n",
    "pd.options.display.max_colwidth = 100"
   ]
  },
  {
   "cell_type": "code",
   "execution_count": 3,
   "metadata": {},
   "outputs": [],
   "source": [
    "# Use pre-loaded dataset from TMDB\n",
    "movie_data = load_tmdb()\n",
    "# load MovieFinder\n",
    "m = MovieFinder()\n",
    "moviefinder_parameters = {\n",
    "    \"data\" : movie_data,\n",
    "    \"n\" : 10\n",
    "}"
   ]
  },
  {
   "attachments": {},
   "cell_type": "markdown",
   "metadata": {},
   "source": [
    "### Example 1: An action film with guns\n",
    "\n",
    "Results look decent, although filtering by different types of shooter-action films would likely surface more relevant results (e.g., westerns vs. more modern films)"
   ]
  },
  {
   "cell_type": "code",
   "execution_count": 4,
   "metadata": {},
   "outputs": [
    {
     "data": {
      "text/html": [
       "<div>\n",
       "<style scoped>\n",
       "    .dataframe tbody tr th:only-of-type {\n",
       "        vertical-align: middle;\n",
       "    }\n",
       "\n",
       "    .dataframe tbody tr th {\n",
       "        vertical-align: top;\n",
       "    }\n",
       "\n",
       "    .dataframe thead th {\n",
       "        text-align: right;\n",
       "    }\n",
       "</style>\n",
       "<table border=\"1\" class=\"dataframe\">\n",
       "  <thead>\n",
       "    <tr style=\"text-align: right;\">\n",
       "      <th></th>\n",
       "      <th>title</th>\n",
       "      <th>overview</th>\n",
       "    </tr>\n",
       "  </thead>\n",
       "  <tbody>\n",
       "    <tr>\n",
       "      <th>2961</th>\n",
       "      <td>The Great Silence</td>\n",
       "      <td>A mute gunslinger fights in the defense of a group of outlaws and a vengeful young widow, agains...</td>\n",
       "    </tr>\n",
       "    <tr>\n",
       "      <th>2299</th>\n",
       "      <td>Wild Tales</td>\n",
       "      <td>Six deadly stories that explore the extremities of human behaviour involving distressed people s...</td>\n",
       "    </tr>\n",
       "    <tr>\n",
       "      <th>737</th>\n",
       "      <td>Pulp Fiction</td>\n",
       "      <td>A burger-loving hit man, his philosophical partner, a drug-addled gangster's moll and a washed-u...</td>\n",
       "    </tr>\n",
       "    <tr>\n",
       "      <th>2648</th>\n",
       "      <td>Shottas</td>\n",
       "      <td>A raw urban drama about two friends raised on the dangerous streets of Kingston, Jamaica. Biggs ...</td>\n",
       "    </tr>\n",
       "    <tr>\n",
       "      <th>2581</th>\n",
       "      <td>Battleship Potemkin</td>\n",
       "      <td>A dramatized account of a great Russian naval mutiny and a resultant public demonstration, showi...</td>\n",
       "    </tr>\n",
       "    <tr>\n",
       "      <th>2684</th>\n",
       "      <td>Hard Boiled</td>\n",
       "      <td>A cop who loses his partner in a shoot-out with gun smugglers goes on a mission to catch them. I...</td>\n",
       "    </tr>\n",
       "    <tr>\n",
       "      <th>1316</th>\n",
       "      <td>Midway</td>\n",
       "      <td>The story of the Battle of Midway, and the leaders and soldiers who used their instincts, fortit...</td>\n",
       "    </tr>\n",
       "    <tr>\n",
       "      <th>1684</th>\n",
       "      <td>Never Back Down: Revolt</td>\n",
       "      <td>An amateur fighter is lured by a trafficking syndicate specializing in elite underground fightin...</td>\n",
       "    </tr>\n",
       "    <tr>\n",
       "      <th>1865</th>\n",
       "      <td>Ong Bak 2</td>\n",
       "      <td>Moments from death a young man is rescued by a renowned warrior. Realizing unsurpassed physical ...</td>\n",
       "    </tr>\n",
       "    <tr>\n",
       "      <th>176</th>\n",
       "      <td>Frank and Penelope</td>\n",
       "      <td>A tale of love and violence when a man on his emotional last legs finds a savior seductively dan...</td>\n",
       "    </tr>\n",
       "  </tbody>\n",
       "</table>\n",
       "</div>"
      ],
      "text/plain": [
       "                        title  \\\n",
       "2961        The Great Silence   \n",
       "2299               Wild Tales   \n",
       "737              Pulp Fiction   \n",
       "2648                  Shottas   \n",
       "2581      Battleship Potemkin   \n",
       "2684              Hard Boiled   \n",
       "1316                   Midway   \n",
       "1684  Never Back Down: Revolt   \n",
       "1865                Ong Bak 2   \n",
       "176        Frank and Penelope   \n",
       "\n",
       "                                                                                                 overview  \n",
       "2961  A mute gunslinger fights in the defense of a group of outlaws and a vengeful young widow, agains...  \n",
       "2299  Six deadly stories that explore the extremities of human behaviour involving distressed people s...  \n",
       "737   A burger-loving hit man, his philosophical partner, a drug-addled gangster's moll and a washed-u...  \n",
       "2648  A raw urban drama about two friends raised on the dangerous streets of Kingston, Jamaica. Biggs ...  \n",
       "2581  A dramatized account of a great Russian naval mutiny and a resultant public demonstration, showi...  \n",
       "2684  A cop who loses his partner in a shoot-out with gun smugglers goes on a mission to catch them. I...  \n",
       "1316  The story of the Battle of Midway, and the leaders and soldiers who used their instincts, fortit...  \n",
       "1684  An amateur fighter is lured by a trafficking syndicate specializing in elite underground fightin...  \n",
       "1865  Moments from death a young man is rescued by a renowned warrior. Realizing unsurpassed physical ...  \n",
       "176   A tale of love and violence when a man on his emotional last legs finds a savior seductively dan...  "
      ]
     },
     "execution_count": 4,
     "metadata": {},
     "output_type": "execute_result"
    }
   ],
   "source": [
    "query1 = \"intense story with a lot of gun fights and over the top action\"\n",
    "m.get_n_matches(query=query1, **moviefinder_parameters)\n",
    "movie_data.iloc[m.top_n_index,:][[\"title\",\"overview\"]].transpose().values.tolist()"
   ]
  },
  {
   "cell_type": "code",
   "execution_count": 5,
   "metadata": {},
   "outputs": [
    {
     "data": {
      "text/plain": [
       "[['The Great Silence',\n",
       "  'Wild Tales',\n",
       "  'Pulp Fiction',\n",
       "  'Shottas',\n",
       "  'Battleship Potemkin',\n",
       "  'Hard Boiled',\n",
       "  'Midway',\n",
       "  'Never Back Down: Revolt',\n",
       "  'Ong Bak 2',\n",
       "  'Frank and Penelope'],\n",
       " ['A mute gunslinger fights in the defense of a group of outlaws and a vengeful young widow, against a group of ruthless bounty hunters.',\n",
       "  'Six deadly stories that explore the extremities of human behaviour involving distressed people seeking revenge.',\n",
       "  \"A burger-loving hit man, his philosophical partner, a drug-addled gangster's moll and a washed-up boxer converge in this sprawling, comedic crime caper. Their adventures unfurl in three stories that ingeniously trip back and forth in time.\",\n",
       "  'A raw urban drama about two friends raised on the dangerous streets of Kingston, Jamaica. Biggs and Wayne take on the \"Shotta\" way of life to survive. As young boys, they begin a life of crime, eventually moving to the US where they begin a ruthless climb from the bottom. They remain bound to each other by their shottas loyalty as they aggressively take control of the Jamaican underworld.',\n",
       "  'A dramatized account of a great Russian naval mutiny and a resultant public demonstration, showing support, which brought on a police massacre. The film had an incredible impact on the development of cinema and is a masterful example of montage editing.',\n",
       "  \"A cop who loses his partner in a shoot-out with gun smugglers goes on a mission to catch them. In order to get closer to the leaders of the ring he joins forces with an undercover cop who's working as a gangster hitman. They use all means of excessive force to find them.\",\n",
       "  'The story of the Battle of Midway, and the leaders and soldiers who used their instincts, fortitude and bravery to overcome massive odds.',\n",
       "  'An amateur fighter is lured by a trafficking syndicate specializing in elite underground fighting where her brutal captor forces her to fight or face certain death.',\n",
       "  'Moments from death a young man is rescued by a renowned warrior. Realizing unsurpassed physical potential in the young boy he trains him into the most dangerous man alive. As he becomes a young man he goes on a lone mission of vengeance against the vicious slave traders who enslaved him as a youth and the treacherous warlord who killed his father.',\n",
       "  'A tale of love and violence when a man on his emotional last legs finds a savior seductively dancing in a run-down strip club. And a life most certainly headed off a cliff suddenly becomes redirected - as everything is now worth dying for.']]"
      ]
     },
     "execution_count": 5,
     "metadata": {},
     "output_type": "execute_result"
    }
   ],
   "source": [
    "movie_data.iloc[m.top_n_index,:][[\"title\",\"overview\"]].transpose().values.tolist()"
   ]
  },
  {
   "attachments": {},
   "cell_type": "markdown",
   "metadata": {},
   "source": [
    "### Example 2: A horror film that involves serial killers and has psychological thrills\n",
    "\n",
    "Surprisingly, just based on NLP we are able to find some relevant horror films. This could be because the synopses for horror films are often much more straight forward and explicit. There's still room for improvement by potentially splitting out by sub-genres."
   ]
  },
  {
   "cell_type": "code",
   "execution_count": null,
   "metadata": {},
   "outputs": [],
   "source": [
    "# Example 2\n",
    "query2 = \"horror film with serial killers and psycological thrills\"\n",
    "m.get_n_matches(query=query2, **moviefinder_parameters)\n",
    "movie_data.iloc[m.top_n_index,:][[\"title\",\"overview\"]]"
   ]
  },
  {
   "attachments": {},
   "cell_type": "markdown",
   "metadata": {},
   "source": [
    "### Example 3: A feel-good kids movie that teaches the importance of family\n",
    "\n",
    "Results are mixed, with *Boyhood* nailing it and *In China They Eat Dogs* being a miss. Opportunity for improvement here with an additional layer that allows for filtering by rating when keywords such as \"children\" or \"kids\" are present"
   ]
  },
  {
   "cell_type": "code",
   "execution_count": null,
   "metadata": {},
   "outputs": [],
   "source": [
    "# Example 3\n",
    "query3 = \"feel good movie for children that teaches the importance of family\"\n",
    "m.get_n_matches(query=query3, **moviefinder_parameters)\n",
    "movie_data.iloc[m.top_n_index,:][[\"title\",\"overview\"]]"
   ]
  },
  {
   "attachments": {},
   "cell_type": "markdown",
   "metadata": {},
   "source": [
    "### Example 4: Story about immigrants pursuing the American Dream\n",
    "\n",
    "Results here are... pretty hilarious. The top pick *No One Gets Out Alive* is a horror film about an undocumented immigrant that encounters monsters in Cleveland. Shortcomings of this methodology are on full display here since using the synopsis fails to capture the broader context of the film. You could argue that our second pick *Everything Everywhere All at Once* is about immigrants but it's highly doubtful that our provided query would be the first way people would describe that movie. \n",
    "\n",
    "Still, other choices on our list seem to capture the essence of our query, which is promising."
   ]
  },
  {
   "cell_type": "code",
   "execution_count": null,
   "metadata": {},
   "outputs": [],
   "source": [
    "# Example 4\n",
    "query4 = \"story about immigrants pursuing the American Dream\"\n",
    "m.get_n_matches(query=query4, **moviefinder_parameters)\n",
    "movie_data.iloc[m.top_n_index,:][[\"title\",\"overview\"]]"
   ]
  }
 ],
 "metadata": {
  "kernelspec": {
   "display_name": ".venv",
   "language": "python",
   "name": "python3"
  },
  "language_info": {
   "codemirror_mode": {
    "name": "ipython",
    "version": 3
   },
   "file_extension": ".py",
   "mimetype": "text/x-python",
   "name": "python",
   "nbconvert_exporter": "python",
   "pygments_lexer": "ipython3",
   "version": "3.10.6"
  },
  "orig_nbformat": 4,
  "vscode": {
   "interpreter": {
    "hash": "f28ba47f23ccb49070b95256e0bf684761571313adefa5e0274c0a22161cdf53"
   }
  }
 },
 "nbformat": 4,
 "nbformat_minor": 2
}
