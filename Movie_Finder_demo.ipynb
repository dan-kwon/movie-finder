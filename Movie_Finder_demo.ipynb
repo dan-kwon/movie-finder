{
 "cells": [
  {
   "attachments": {},
   "cell_type": "markdown",
   "metadata": {},
   "source": [
    "# Movie Finder Demo"
   ]
  },
  {
   "cell_type": "code",
   "execution_count": null,
   "metadata": {},
   "outputs": [],
   "source": [
    "import numpy as np\n",
    "import pandas as pd\n",
    "from src.movie_finder import MovieFinder\n",
    "from src.movie_finder.datasets import load_tmdb\n",
    "\n",
    "pd.options.display.max_colwidth = 100"
   ]
  },
  {
   "cell_type": "code",
   "execution_count": null,
   "metadata": {},
   "outputs": [],
   "source": [
    "# Use pre-loaded dataset from TMDB\n",
    "movie_data = load_tmdb()\n",
    "# load MovieFinder\n",
    "m = MovieFinder()\n",
    "moviefinder_parameters = {\n",
    "    \"data\" : movie_data,\n",
    "    \"n\" : 10\n",
    "}"
   ]
  },
  {
   "attachments": {},
   "cell_type": "markdown",
   "metadata": {},
   "source": [
    "### Example 1: An action film with guns\n",
    "\n",
    "Results look decent, although filtering by different types of shooter-action films would likely surface more relevant results (e.g., westerns vs. more modern films)"
   ]
  },
  {
   "cell_type": "code",
   "execution_count": null,
   "metadata": {},
   "outputs": [],
   "source": [
    "query1 = \"intense story with a lot of gun fights and over the top action\"\n",
    "m.get_n_matches(query=query1, **moviefinder_parameters)\n",
    "movie_data.iloc[m.top_n_index,:][[\"title\",\"overview\"]]"
   ]
  },
  {
   "attachments": {},
   "cell_type": "markdown",
   "metadata": {},
   "source": [
    "### Example 2: A horror film that involves serial killers and has psychological thrills\n",
    "\n",
    "Surprisingly, just based on NLP we are able to find some relevant horror films. This could be because the synopses for horror films are often much more straight forward and explicit. There's still room for improvement by potentially splitting out by sub-genres."
   ]
  },
  {
   "cell_type": "code",
   "execution_count": null,
   "metadata": {},
   "outputs": [],
   "source": [
    "# Example 2\n",
    "query2 = \"horror film with serial killers and psycological thrills\"\n",
    "m.get_n_matches(query=query2, **moviefinder_parameters)\n",
    "movie_data.iloc[m.top_n_index,:][[\"title\",\"overview\"]]"
   ]
  },
  {
   "attachments": {},
   "cell_type": "markdown",
   "metadata": {},
   "source": [
    "### Example 3: A feel-good kids movie that teaches the importance of family\n",
    "\n",
    "Results are mixed, with *Boyhood* nailing it and *In China They Eat Dogs* being a miss. Opportunity for improvement here with an additional layer that allows for filtering by rating when keywords such as \"children\" or \"kids\" are present"
   ]
  },
  {
   "cell_type": "code",
   "execution_count": null,
   "metadata": {},
   "outputs": [],
   "source": [
    "# Example 3\n",
    "query3 = \"feel good movie for children that teaches the importance of family\"\n",
    "m.get_n_matches(query=query3, **moviefinder_parameters)\n",
    "movie_data.iloc[m.top_n_index,:][[\"title\",\"overview\"]]"
   ]
  },
  {
   "attachments": {},
   "cell_type": "markdown",
   "metadata": {},
   "source": [
    "### Example 4: Story about immigrants pursuing the American Dream\n",
    "\n",
    "Results here are... pretty hilarious. The top pick *No One Gets Out Alive* is a horror film about an undocumented immigrant that encounters monsters in Cleveland. Shortcomings of this methodology are on full display here since using the synopsis fails to capture the broader context of the film. You could argue that our second pick *Everything Everywhere All at Once* is about immigrants but it's highly doubtful that our provided query would be the first way people would describe that movie. \n",
    "\n",
    "Still, other choices on our list seem to capture the essence of our query, which is promising."
   ]
  },
  {
   "cell_type": "code",
   "execution_count": null,
   "metadata": {},
   "outputs": [],
   "source": [
    "# Example 4\n",
    "query4 = \"story about immigrants pursuing the American Dream\"\n",
    "m.get_n_matches(query=query4, **moviefinder_parameters)\n",
    "movie_data.iloc[m.top_n_index,:][[\"title\",\"overview\"]]"
   ]
  }
 ],
 "metadata": {
  "kernelspec": {
   "display_name": "Python 3",
   "language": "python",
   "name": "python3"
  },
  "language_info": {
   "codemirror_mode": {
    "name": "ipython",
    "version": 3
   },
   "file_extension": ".py",
   "mimetype": "text/x-python",
   "name": "python",
   "nbconvert_exporter": "python",
   "pygments_lexer": "ipython3",
   "version": "3.10.0 (default, Nov 17 2021, 14:14:34) [Clang 13.0.0 (clang-1300.0.29.3)]"
  },
  "orig_nbformat": 4,
  "vscode": {
   "interpreter": {
    "hash": "ea1f1b75962e8479cdd31f745f7b88aa0f718a153ab100a859b7ce2822faba81"
   }
  }
 },
 "nbformat": 4,
 "nbformat_minor": 2
}
